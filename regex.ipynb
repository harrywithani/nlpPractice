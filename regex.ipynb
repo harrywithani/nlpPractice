{
  "nbformat": 4,
  "nbformat_minor": 0,
  "metadata": {
    "colab": {
      "provenance": []
    },
    "kernelspec": {
      "name": "python3",
      "display_name": "Python 3"
    },
    "language_info": {
      "name": "python"
    }
  },
  "cells": [
    {
      "cell_type": "code",
      "execution_count": 1,
      "metadata": {
        "colab": {
          "base_uri": "https://localhost:8080/"
        },
        "id": "pyilPiRZ45V5",
        "outputId": "a204ee69-ae51-4884-c6d2-6cc004c9b1cd"
      },
      "outputs": [
        {
          "output_type": "stream",
          "name": "stdout",
          "text": [
            "URLs: ['https://openai.com', 'http://example.com.']\n",
            "Emails: ['test.email@gmail.com', 'another_email123@domain.org']\n",
            "Numbers: ['123', '45', '99.99', '1000']\n",
            "Tokens: ['Check', 'out', 'https', 'openai', 'com', 'or', 'http', 'example', 'com', 'Contact', 'me', 'at', 'test', 'email', 'gmail', 'com', 'or', 'another_email123', 'domain', 'org', 'Prices', 'are', '45', '99', '99', 'and', '1000', 'dollars', \"Isn't\", 'this', 'a', 'good-tokenizer', 'NLP', 'and', 'OpenAI', 'are', 'popular', 'hashtags', 'mentions']\n",
            "Hashtags: ['#NLP']\n",
            "Mentions: ['@gmail', '@domain', '@OpenAI']\n",
            "Cleaned text: \n",
            "Check out httpsopenaicom or httpexamplecom\n",
            "Contact me at testemailgmailcom or another_email123domainorg\n",
            "Prices are 45 9999 and 1000 dollars\n",
            "Isnt this a goodtokenizer\n",
            "NLP and OpenAI are popular hashtagsmentions\n",
            "\n",
            "Prices: ['1000 dollars']\n",
            "Words before 'ing': ['runn', 'jump']\n"
          ]
        }
      ],
      "source": [
        "import re\n",
        "\n",
        "text = \"\"\"\n",
        "Check out https://openai.com or http://example.com.\n",
        "Contact me at test.email@gmail.com or another_email123@domain.org.\n",
        "Prices are 45, 99.99, and 1000 dollars.\n",
        "Isn't this a good-tokenizer?\n",
        "#NLP and @OpenAI are popular hashtags/mentions.\n",
        "\"\"\"\n",
        "\n",
        "#  URLs (http or https)\n",
        "urls = re.findall(r\"https?://[^\\s]+\", text)\n",
        "print(\"URLs:\", urls)\n",
        "# Output: ['https://openai.com', 'http://example.com']\n",
        "\n",
        "#  Emails\n",
        "emails = re.findall(r\"\\b[\\w.-]+@[\\w.-]+\\.\\w+\\b\", text)\n",
        "print(\"Emails:\", emails)\n",
        "# Output: ['test.email@gmail.com', 'another_email123@domain.org']\n",
        "\n",
        "# Numbers (integers and decimals)\n",
        "numbers = re.findall(r\"\\d+(?:\\.\\d+)?\", text)\n",
        "print(\"Numbers:\", numbers)\n",
        "# Output: ['45', '99.99', '1000']\n",
        "\n",
        "# Tokenizing words with hyphens/apostrophes\n",
        "tokens = re.findall(r\"\\w[\\w'-]*\", text)\n",
        "print(\"Tokens:\", tokens)\n",
        "# Output: ['Check', 'out', 'https', 'openai', 'com', 'or', 'http', 'example', 'com', 'Contact', ...]\n",
        "\n",
        "# Hashtags and mentions\n",
        "hashtags = re.findall(r\"#\\w+\", text)\n",
        "mentions = re.findall(r\"@\\w+\", text)\n",
        "print(\"Hashtags:\", hashtags)  # ['#NLP']\n",
        "print(\"Mentions:\", mentions)  # ['@OpenAI']\n",
        "\n",
        "#  Removing punctuation (keep words and numbers)\n",
        "cleaned = re.sub(r\"[^\\w\\s]\", \"\", text)\n",
        "print(\"Cleaned text:\", cleaned)\n",
        "# Output: 'Check out httpsopenaicom or httpexamplecom Contact me at testemailgmailcom ...'\n",
        "\n",
        "#  Non-capturing groups example\n",
        "prices = re.findall(r\"\\d+(?:\\.\\d+)?\\s*dollars?\", text)\n",
        "print(\"Prices:\", prices)\n",
        "# Output: ['45 dollars', '99.99 dollars', '1000 dollars']\n",
        "\n",
        "# Lookahead (words followed by 'ing')\n",
        "verbs_ing = re.findall(r\"\\b\\w+(?=ing\\b)\", \"I am running and jumping\")\n",
        "print(\"Words before 'ing':\", verbs_ing)\n",
        "# Output: ['runn', 'jump']\n",
        "\n",
        "# ummary of tricks:\n",
        "# - https?   → matches http or https\n",
        "# - (?:...)  → non-capturing group\n",
        "# - \\d+      → digits\n",
        "# - \\w[\\w'-]* → word tokenizer with hyphens/apostrophes\n",
        "# - [^\\w\\s]  → remove punctuation\n",
        "# - \\b       → word boundary\n",
        "# - Lookahead/lookbehind → context-specific matching\n"
      ]
    },
    {
      "cell_type": "code",
      "source": [],
      "metadata": {
        "id": "rBd-Tk0B5ML0"
      },
      "execution_count": null,
      "outputs": []
    }
  ]
}